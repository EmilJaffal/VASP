{
 "cells": [
  {
   "cell_type": "code",
   "execution_count": 1,
   "id": "002f253d-76da-4f28-9f93-9c31125352df",
   "metadata": {},
   "outputs": [],
   "source": [
    "import lobsterpy"
   ]
  },
  {
   "cell_type": "code",
   "execution_count": 5,
   "id": "751cbaab-f456-4ca9-aeb4-4ebd71238595",
   "metadata": {},
   "outputs": [
    {
     "ename": "FileNotFoundError",
     "evalue": "[Errno 2] No such file or directory: '/Desktop/Structures/CeCo2In/Lobster'",
     "output_type": "error",
     "traceback": [
      "\u001b[0;31m---------------------------------------------------------------------------\u001b[0m",
      "\u001b[0;31mFileNotFoundError\u001b[0m                         Traceback (most recent call last)",
      "Cell \u001b[0;32mIn[5], line 7\u001b[0m\n\u001b[1;32m      4\u001b[0m directory \u001b[38;5;241m=\u001b[39m \u001b[38;5;124m\"\u001b[39m\u001b[38;5;124m/Desktop/Structures/CeCo2In/Lobster\u001b[39m\u001b[38;5;124m\"\u001b[39m\n\u001b[1;32m      6\u001b[0m \u001b[38;5;66;03m# Change the current working directory to the specified directory\u001b[39;00m\n\u001b[0;32m----> 7\u001b[0m \u001b[43mos\u001b[49m\u001b[38;5;241;43m.\u001b[39;49m\u001b[43mchdir\u001b[49m\u001b[43m(\u001b[49m\u001b[43mdirectory\u001b[49m\u001b[43m)\u001b[49m\n\u001b[1;32m      9\u001b[0m \u001b[38;5;66;03m# Execute the lobsterpy command to plot COOPs\u001b[39;00m\n\u001b[1;32m     10\u001b[0m os\u001b[38;5;241m.\u001b[39msystem(\u001b[38;5;124m\"\u001b[39m\u001b[38;5;124mlobsterpy plot --file-cohpcar COOPCAR.lobster --file-structure POSCAR.lobster --coops\u001b[39m\u001b[38;5;124m\"\u001b[39m)\n",
      "\u001b[0;31mFileNotFoundError\u001b[0m: [Errno 2] No such file or directory: '/Desktop/Structures/CeCo2In/Lobster'"
     ]
    }
   ],
   "source": [
    "import os\n",
    "\n",
    "# Define the path to the directory containing the COOPCAR.lobster file\n",
    "directory = \"/Desktop/Structures/CeCo2In/Lobster\"\n",
    "\n",
    "# Change the current working directory to the specified directory\n",
    "os.chdir(directory)\n",
    "\n",
    "# Execute the lobsterpy command to plot COOPs\n",
    "os.system(\"lobsterpy plot --file-cohpcar COOPCAR.lobster --file-structure POSCAR.lobster --coops\")"
   ]
  },
  {
   "cell_type": "code",
   "execution_count": null,
   "id": "6b7fa7a8-2fa6-4ba1-950b-5fa79e43f969",
   "metadata": {},
   "outputs": [],
   "source": []
  }
 ],
 "metadata": {
  "kernelspec": {
   "display_name": "Python 3 (ipykernel)",
   "language": "python",
   "name": "python3"
  },
  "language_info": {
   "codemirror_mode": {
    "name": "ipython",
    "version": 3
   },
   "file_extension": ".py",
   "mimetype": "text/x-python",
   "name": "python",
   "nbconvert_exporter": "python",
   "pygments_lexer": "ipython3",
   "version": "3.8.18"
  }
 },
 "nbformat": 4,
 "nbformat_minor": 5
}
