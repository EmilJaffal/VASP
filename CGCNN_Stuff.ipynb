{
 "cells": [
  {
   "cell_type": "code",
   "execution_count": null,
   "id": "b4f3bb0f-219d-4bfb-8536-c49fecaeb171",
   "metadata": {},
   "outputs": [],
   "source": []
  },
  {
   "cell_type": "markdown",
   "id": "fe41b8b4-8472-41fe-9fd4-bf1339a67f39",
   "metadata": {
    "jp-MarkdownHeadingCollapsed": true
   },
   "source": [
    "# CGCNN Stuff"
   ]
  },
  {
   "cell_type": "markdown",
   "id": "8aeb4584-c76f-4a09-a273-c9ae6d2bb1f3",
   "metadata": {},
   "source": [
    "import os\n",
    "import pandas as pd\n",
    "\n",
    "# Define the directory where the CSV files are located\n",
    "directory = 'Downloads/CGCNN_CVS_RESULTS/'\n",
    "\n",
    "# Loop through each subdirectory\n",
    "for subdir in os.listdir(directory):\n",
    "    subdir_path = os.path.join(directory, subdir)\n",
    "    \n",
    "    # Check if it's a directory\n",
    "    if os.path.isdir(subdir_path):\n",
    "        # Find the path of the test_results.csv file in the current directory\n",
    "        csv_path = os.path.join(subdir_path, 'test_results.csv')\n",
    "        \n",
    "        # Check if the test_results.csv file exists\n",
    "        if os.path.exists(csv_path):\n",
    "            # Load the CSV file into a DataFrame\n",
    "            df = pd.read_csv(csv_path)\n",
    "            \n",
    "            # Extract the values from the first row\n",
    "            entry_value = df.iloc[0, 0]\n",
    "            parent_folder = subdir\n",
    "            prediction_value = subdir\n",
    "            \n",
    "            # Rename the columns\n",
    "            df.columns = ['Entry', f'Run_{parent_folder}', f'Prediction_{parent_folder}']\n",
    "            \n",
    "            # Save the modified DataFrame as new_test_results.csv\n",
    "            new_csv_path = os.path.join(subdir_path, 'new_test_results.csv')\n",
    "            df.to_csv(new_csv_path, index=False)\n"
   ]
  },
  {
   "cell_type": "markdown",
   "id": "10777359-da96-4c69-b539-ad5cd9384af7",
   "metadata": {},
   "source": [
    "import os\n",
    "import pandas as pd\n",
    "\n",
    "directory = 'Downloads/CGCNN_CVS_RESULTS'\n",
    "merged_df = None\n",
    "\n",
    "for i in range(1, 11):\n",
    "    folder_path = os.path.join(directory, str(i))\n",
    "    csv_file = os.path.join(folder_path, 'new_test_results.csv')\n",
    "    \n",
    "    if os.path.exists(csv_file):\n",
    "        # Read the CSV file into a dataframe\n",
    "        df = pd.read_csv(csv_file)\n",
    "        # If merged_df is None, assign it the current dataframe; otherwise, merge the dataframes\n",
    "        if merged_df is None:\n",
    "            merged_df = df\n",
    "        else:\n",
    "            # Merge dataframes based on the 'Entry' column\n",
    "            merged_df = pd.merge(merged_df, df, on='Entry', how='outer')\n",
    "    else:\n",
    "        print(f\"new_test_results.csv not found in folder {i}.\")\n",
    "\n",
    "# Save the merged dataframe to a new CSV file\n",
    "merged_csv_file = os.path.join(directory, 'merged_results.csv')\n",
    "merged_df.to_csv(merged_csv_file, index=False)\n",
    "print(f\"Saved merged dataframe to {merged_csv_file}\")\n"
   ]
  }
 ],
 "metadata": {
  "kernelspec": {
   "display_name": "Python 3 (ipykernel)",
   "language": "python",
   "name": "python3"
  },
  "language_info": {
   "codemirror_mode": {
    "name": "ipython",
    "version": 3
   },
   "file_extension": ".py",
   "mimetype": "text/x-python",
   "name": "python",
   "nbconvert_exporter": "python",
   "pygments_lexer": "ipython3",
   "version": "3.8.19"
  }
 },
 "nbformat": 4,
 "nbformat_minor": 5
}
